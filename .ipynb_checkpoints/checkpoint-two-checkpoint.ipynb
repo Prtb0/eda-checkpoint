{
 "cells": [
  {
   "cell_type": "markdown",
   "metadata": {
    "azdata_cell_guid": "151601c9-ca7a-412e-af80-c62a87e0837e"
   },
   "source": [
    "# Checkpoint Two: Exploratory Data Analysis\n",
    "\n",
    "Now that your chosen dataset is approved, it is time to start working on your analysis. Use this notebook to perform your EDA and make notes where directed to as you work.\n",
    "\n",
    "## Getting Started\n",
    "\n",
    "Since we have not provided your dataset for you, you will need to load the necessary files in this repository. Make sure to include a link back to the original dataset here as well.\n",
    "\n",
    "My dataset:https://www.kaggle.com/datasets/juhibhojani/airline-reviews\n",
    "\n",
    "Your first task in EDA is to import necessary libraries and create a dataframe(s). Make note in the form of code comments of what your thought process is as you work on this setup task."
   ]
  },
  {
   "cell_type": "code",
   "execution_count": 125,
   "metadata": {
    "azdata_cell_guid": "7b503e37-6df5-4433-acfb-678b1346db14"
   },
   "outputs": [
    {
     "name": "stdout",
     "output_type": "stream",
     "text": [
      "<class 'pandas.core.frame.DataFrame'>\n",
      "RangeIndex: 23171 entries, 0 to 23170\n",
      "Data columns (total 20 columns):\n",
      " #   Column                  Non-Null Count  Dtype  \n",
      "---  ------                  --------------  -----  \n",
      " 0   Unnamed: 0              23171 non-null  int64  \n",
      " 1   Airline Name            23171 non-null  object \n",
      " 2   Overall_Rating          23171 non-null  object \n",
      " 3   Review_Title            23171 non-null  object \n",
      " 4   Review Date             23171 non-null  object \n",
      " 5   Verified                23171 non-null  bool   \n",
      " 6   Review                  23171 non-null  object \n",
      " 7   Aircraft                7129 non-null   object \n",
      " 8   Type Of Traveller       19433 non-null  object \n",
      " 9   Seat Type               22075 non-null  object \n",
      " 10  Route                   19343 non-null  object \n",
      " 11  Date Flown              19417 non-null  object \n",
      " 12  Seat Comfort            19016 non-null  float64\n",
      " 13  Cabin Staff Service     18911 non-null  float64\n",
      " 14  Food & Beverages        14500 non-null  float64\n",
      " 15  Ground Service          18378 non-null  float64\n",
      " 16  Inflight Entertainment  10829 non-null  float64\n",
      " 17  Wifi & Connectivity     5920 non-null   float64\n",
      " 18  Value For Money         22105 non-null  float64\n",
      " 19  Recommended             23171 non-null  object \n",
      "dtypes: bool(1), float64(7), int64(1), object(11)\n",
      "memory usage: 3.4+ MB\n"
     ]
    }
   ],
   "source": [
    "import pandas as pd\n",
    "import matplotlib.pyplot as plt\n",
    "import seaborn as sns\n",
    "import numpy as np\n",
    "\n",
    "df = pd.read_csv(\"Airline_review.csv\")\n",
    "\n",
    "# Want to check if the dataframe was properly imported and see what kind of data is stored in each column.\n",
    "\n",
    "df.info()\n"
   ]
  },
  {
   "cell_type": "markdown",
   "metadata": {
    "azdata_cell_guid": "129ce836-524b-4ea8-b394-a959f9308d6a"
   },
   "source": [
    "## Get to Know the Numbers\n",
    "\n",
    "Now that you have everything setup, put any code that you use to get to know the dataframe and its rows and columns better in the cell below. You can use whatever techniques you like, except for visualizations. You will put those in a separate section.\n",
    "\n",
    "When working on your code, make sure to leave comments so that your mentors can understand your thought process."
   ]
  },
  {
   "cell_type": "code",
   "execution_count": 126,
   "metadata": {},
   "outputs": [
    {
     "data": {
      "text/html": [
       "<div>\n",
       "<style scoped>\n",
       "    .dataframe tbody tr th:only-of-type {\n",
       "        vertical-align: middle;\n",
       "    }\n",
       "\n",
       "    .dataframe tbody tr th {\n",
       "        vertical-align: top;\n",
       "    }\n",
       "\n",
       "    .dataframe thead th {\n",
       "        text-align: right;\n",
       "    }\n",
       "</style>\n",
       "<table border=\"1\" class=\"dataframe\">\n",
       "  <thead>\n",
       "    <tr style=\"text-align: right;\">\n",
       "      <th></th>\n",
       "      <th>Unnamed: 0</th>\n",
       "      <th>Airline Name</th>\n",
       "      <th>Overall_Rating</th>\n",
       "      <th>Review_Title</th>\n",
       "      <th>Review Date</th>\n",
       "      <th>Verified</th>\n",
       "      <th>Review</th>\n",
       "      <th>Aircraft</th>\n",
       "      <th>Type Of Traveller</th>\n",
       "      <th>Seat Type</th>\n",
       "      <th>Route</th>\n",
       "      <th>Date Flown</th>\n",
       "      <th>Seat Comfort</th>\n",
       "      <th>Cabin Staff Service</th>\n",
       "      <th>Food &amp; Beverages</th>\n",
       "      <th>Ground Service</th>\n",
       "      <th>Inflight Entertainment</th>\n",
       "      <th>Wifi &amp; Connectivity</th>\n",
       "      <th>Value For Money</th>\n",
       "      <th>Recommended</th>\n",
       "    </tr>\n",
       "  </thead>\n",
       "  <tbody>\n",
       "    <tr>\n",
       "      <th>0</th>\n",
       "      <td>0</td>\n",
       "      <td>AB Aviation</td>\n",
       "      <td>9</td>\n",
       "      <td>\"pretty decent airline\"</td>\n",
       "      <td>11th November 2019</td>\n",
       "      <td>True</td>\n",
       "      <td>Moroni to Moheli. Turned out to be a pretty ...</td>\n",
       "      <td>NaN</td>\n",
       "      <td>Solo Leisure</td>\n",
       "      <td>Economy Class</td>\n",
       "      <td>Moroni to Moheli</td>\n",
       "      <td>November 2019</td>\n",
       "      <td>4.0</td>\n",
       "      <td>5.0</td>\n",
       "      <td>4.0</td>\n",
       "      <td>4.0</td>\n",
       "      <td>NaN</td>\n",
       "      <td>NaN</td>\n",
       "      <td>3.0</td>\n",
       "      <td>yes</td>\n",
       "    </tr>\n",
       "    <tr>\n",
       "      <th>1</th>\n",
       "      <td>1</td>\n",
       "      <td>AB Aviation</td>\n",
       "      <td>1</td>\n",
       "      <td>\"Not a good airline\"</td>\n",
       "      <td>25th June 2019</td>\n",
       "      <td>True</td>\n",
       "      <td>Moroni to Anjouan. It is a very small airline...</td>\n",
       "      <td>E120</td>\n",
       "      <td>Solo Leisure</td>\n",
       "      <td>Economy Class</td>\n",
       "      <td>Moroni to Anjouan</td>\n",
       "      <td>June 2019</td>\n",
       "      <td>2.0</td>\n",
       "      <td>2.0</td>\n",
       "      <td>1.0</td>\n",
       "      <td>1.0</td>\n",
       "      <td>NaN</td>\n",
       "      <td>NaN</td>\n",
       "      <td>2.0</td>\n",
       "      <td>no</td>\n",
       "    </tr>\n",
       "    <tr>\n",
       "      <th>2</th>\n",
       "      <td>2</td>\n",
       "      <td>AB Aviation</td>\n",
       "      <td>1</td>\n",
       "      <td>\"flight was fortunately short\"</td>\n",
       "      <td>25th June 2019</td>\n",
       "      <td>True</td>\n",
       "      <td>Anjouan to Dzaoudzi. A very small airline an...</td>\n",
       "      <td>Embraer E120</td>\n",
       "      <td>Solo Leisure</td>\n",
       "      <td>Economy Class</td>\n",
       "      <td>Anjouan to Dzaoudzi</td>\n",
       "      <td>June 2019</td>\n",
       "      <td>2.0</td>\n",
       "      <td>1.0</td>\n",
       "      <td>1.0</td>\n",
       "      <td>1.0</td>\n",
       "      <td>NaN</td>\n",
       "      <td>NaN</td>\n",
       "      <td>2.0</td>\n",
       "      <td>no</td>\n",
       "    </tr>\n",
       "    <tr>\n",
       "      <th>3</th>\n",
       "      <td>3</td>\n",
       "      <td>Adria Airways</td>\n",
       "      <td>1</td>\n",
       "      <td>\"I will never fly again with Adria\"</td>\n",
       "      <td>28th September 2019</td>\n",
       "      <td>False</td>\n",
       "      <td>Please do a favor yourself and do not fly wi...</td>\n",
       "      <td>NaN</td>\n",
       "      <td>Solo Leisure</td>\n",
       "      <td>Economy Class</td>\n",
       "      <td>Frankfurt to Pristina</td>\n",
       "      <td>September 2019</td>\n",
       "      <td>1.0</td>\n",
       "      <td>1.0</td>\n",
       "      <td>NaN</td>\n",
       "      <td>1.0</td>\n",
       "      <td>NaN</td>\n",
       "      <td>NaN</td>\n",
       "      <td>1.0</td>\n",
       "      <td>no</td>\n",
       "    </tr>\n",
       "    <tr>\n",
       "      <th>4</th>\n",
       "      <td>4</td>\n",
       "      <td>Adria Airways</td>\n",
       "      <td>1</td>\n",
       "      <td>\"it ruined our last days of holidays\"</td>\n",
       "      <td>24th September 2019</td>\n",
       "      <td>True</td>\n",
       "      <td>Do not book a flight with this airline! My fr...</td>\n",
       "      <td>NaN</td>\n",
       "      <td>Couple Leisure</td>\n",
       "      <td>Economy Class</td>\n",
       "      <td>Sofia to Amsterdam via Ljubljana</td>\n",
       "      <td>September 2019</td>\n",
       "      <td>1.0</td>\n",
       "      <td>1.0</td>\n",
       "      <td>1.0</td>\n",
       "      <td>1.0</td>\n",
       "      <td>1.0</td>\n",
       "      <td>1.0</td>\n",
       "      <td>1.0</td>\n",
       "      <td>no</td>\n",
       "    </tr>\n",
       "  </tbody>\n",
       "</table>\n",
       "</div>"
      ],
      "text/plain": [
       "   Unnamed: 0   Airline Name Overall_Rating  \\\n",
       "0           0    AB Aviation              9   \n",
       "1           1    AB Aviation              1   \n",
       "2           2    AB Aviation              1   \n",
       "3           3  Adria Airways              1   \n",
       "4           4  Adria Airways              1   \n",
       "\n",
       "                            Review_Title          Review Date  Verified  \\\n",
       "0                \"pretty decent airline\"   11th November 2019      True   \n",
       "1                   \"Not a good airline\"       25th June 2019      True   \n",
       "2         \"flight was fortunately short\"       25th June 2019      True   \n",
       "3    \"I will never fly again with Adria\"  28th September 2019     False   \n",
       "4  \"it ruined our last days of holidays\"  24th September 2019      True   \n",
       "\n",
       "                                              Review       Aircraft  \\\n",
       "0    Moroni to Moheli. Turned out to be a pretty ...            NaN   \n",
       "1   Moroni to Anjouan. It is a very small airline...           E120   \n",
       "2    Anjouan to Dzaoudzi. A very small airline an...  Embraer E120    \n",
       "3    Please do a favor yourself and do not fly wi...            NaN   \n",
       "4   Do not book a flight with this airline! My fr...            NaN   \n",
       "\n",
       "  Type Of Traveller      Seat Type                             Route  \\\n",
       "0      Solo Leisure  Economy Class                  Moroni to Moheli   \n",
       "1      Solo Leisure  Economy Class                 Moroni to Anjouan   \n",
       "2      Solo Leisure  Economy Class               Anjouan to Dzaoudzi   \n",
       "3      Solo Leisure  Economy Class             Frankfurt to Pristina   \n",
       "4    Couple Leisure  Economy Class  Sofia to Amsterdam via Ljubljana   \n",
       "\n",
       "       Date Flown  Seat Comfort  Cabin Staff Service  Food & Beverages  \\\n",
       "0   November 2019           4.0                  5.0               4.0   \n",
       "1       June 2019           2.0                  2.0               1.0   \n",
       "2       June 2019           2.0                  1.0               1.0   \n",
       "3  September 2019           1.0                  1.0               NaN   \n",
       "4  September 2019           1.0                  1.0               1.0   \n",
       "\n",
       "   Ground Service  Inflight Entertainment  Wifi & Connectivity  \\\n",
       "0             4.0                     NaN                  NaN   \n",
       "1             1.0                     NaN                  NaN   \n",
       "2             1.0                     NaN                  NaN   \n",
       "3             1.0                     NaN                  NaN   \n",
       "4             1.0                     1.0                  1.0   \n",
       "\n",
       "   Value For Money Recommended  \n",
       "0              3.0         yes  \n",
       "1              2.0          no  \n",
       "2              2.0          no  \n",
       "3              1.0          no  \n",
       "4              1.0          no  "
      ]
     },
     "execution_count": 126,
     "metadata": {},
     "output_type": "execute_result"
    }
   ],
   "source": [
    "# Shows first 5 rows of data frame\n",
    "df.head()"
   ]
  },
  {
   "cell_type": "code",
   "execution_count": 4,
   "metadata": {},
   "outputs": [
    {
     "data": {
      "text/plain": [
       "(23171, 20)"
      ]
     },
     "execution_count": 4,
     "metadata": {},
     "output_type": "execute_result"
    }
   ],
   "source": [
    "# check how many rows and columns are present\n",
    "df.shape"
   ]
  },
  {
   "cell_type": "code",
   "execution_count": 11,
   "metadata": {},
   "outputs": [
    {
     "data": {
      "text/plain": [
       "Index(['Unnamed: 0', 'Airline Name', 'Overall_Rating', 'Review_Title',\n",
       "       'Review Date', 'Verified', 'Review', 'Aircraft', 'Type Of Traveller',\n",
       "       'Seat Type', 'Route', 'Date Flown', 'Seat Comfort',\n",
       "       'Cabin Staff Service', 'Food & Beverages', 'Ground Service',\n",
       "       'Inflight Entertainment', 'Wifi & Connectivity', 'Value For Money',\n",
       "       'Recommended'],\n",
       "      dtype='object')"
      ]
     },
     "execution_count": 11,
     "metadata": {},
     "output_type": "execute_result"
    }
   ],
   "source": [
    "# checking column names\n",
    "df.columns"
   ]
  },
  {
   "cell_type": "code",
   "execution_count": 13,
   "metadata": {},
   "outputs": [
    {
     "data": {
      "text/html": [
       "<div>\n",
       "<style scoped>\n",
       "    .dataframe tbody tr th:only-of-type {\n",
       "        vertical-align: middle;\n",
       "    }\n",
       "\n",
       "    .dataframe tbody tr th {\n",
       "        vertical-align: top;\n",
       "    }\n",
       "\n",
       "    .dataframe thead th {\n",
       "        text-align: right;\n",
       "    }\n",
       "</style>\n",
       "<table border=\"1\" class=\"dataframe\">\n",
       "  <thead>\n",
       "    <tr style=\"text-align: right;\">\n",
       "      <th></th>\n",
       "      <th>Unnamed: 0</th>\n",
       "      <th>Seat Comfort</th>\n",
       "      <th>Cabin Staff Service</th>\n",
       "      <th>Food &amp; Beverages</th>\n",
       "      <th>Ground Service</th>\n",
       "      <th>Inflight Entertainment</th>\n",
       "      <th>Wifi &amp; Connectivity</th>\n",
       "      <th>Value For Money</th>\n",
       "    </tr>\n",
       "  </thead>\n",
       "  <tbody>\n",
       "    <tr>\n",
       "      <th>count</th>\n",
       "      <td>23171.00000</td>\n",
       "      <td>19016.000000</td>\n",
       "      <td>18911.000000</td>\n",
       "      <td>14500.000000</td>\n",
       "      <td>18378.000000</td>\n",
       "      <td>10829.000000</td>\n",
       "      <td>5920.000000</td>\n",
       "      <td>22105.000000</td>\n",
       "    </tr>\n",
       "    <tr>\n",
       "      <th>mean</th>\n",
       "      <td>11585.00000</td>\n",
       "      <td>2.618374</td>\n",
       "      <td>2.871609</td>\n",
       "      <td>2.553586</td>\n",
       "      <td>2.353738</td>\n",
       "      <td>2.179056</td>\n",
       "      <td>1.780405</td>\n",
       "      <td>2.451165</td>\n",
       "    </tr>\n",
       "    <tr>\n",
       "      <th>std</th>\n",
       "      <td>6689.03588</td>\n",
       "      <td>1.464840</td>\n",
       "      <td>1.604631</td>\n",
       "      <td>1.526314</td>\n",
       "      <td>1.595747</td>\n",
       "      <td>1.488839</td>\n",
       "      <td>1.318800</td>\n",
       "      <td>1.594155</td>\n",
       "    </tr>\n",
       "    <tr>\n",
       "      <th>min</th>\n",
       "      <td>0.00000</td>\n",
       "      <td>0.000000</td>\n",
       "      <td>0.000000</td>\n",
       "      <td>0.000000</td>\n",
       "      <td>1.000000</td>\n",
       "      <td>0.000000</td>\n",
       "      <td>0.000000</td>\n",
       "      <td>0.000000</td>\n",
       "    </tr>\n",
       "    <tr>\n",
       "      <th>25%</th>\n",
       "      <td>5792.50000</td>\n",
       "      <td>1.000000</td>\n",
       "      <td>1.000000</td>\n",
       "      <td>1.000000</td>\n",
       "      <td>1.000000</td>\n",
       "      <td>1.000000</td>\n",
       "      <td>1.000000</td>\n",
       "      <td>1.000000</td>\n",
       "    </tr>\n",
       "    <tr>\n",
       "      <th>50%</th>\n",
       "      <td>11585.00000</td>\n",
       "      <td>3.000000</td>\n",
       "      <td>3.000000</td>\n",
       "      <td>2.000000</td>\n",
       "      <td>1.000000</td>\n",
       "      <td>2.000000</td>\n",
       "      <td>1.000000</td>\n",
       "      <td>2.000000</td>\n",
       "    </tr>\n",
       "    <tr>\n",
       "      <th>75%</th>\n",
       "      <td>17377.50000</td>\n",
       "      <td>4.000000</td>\n",
       "      <td>4.000000</td>\n",
       "      <td>4.000000</td>\n",
       "      <td>4.000000</td>\n",
       "      <td>3.000000</td>\n",
       "      <td>2.000000</td>\n",
       "      <td>4.000000</td>\n",
       "    </tr>\n",
       "    <tr>\n",
       "      <th>max</th>\n",
       "      <td>23170.00000</td>\n",
       "      <td>5.000000</td>\n",
       "      <td>5.000000</td>\n",
       "      <td>5.000000</td>\n",
       "      <td>5.000000</td>\n",
       "      <td>5.000000</td>\n",
       "      <td>5.000000</td>\n",
       "      <td>5.000000</td>\n",
       "    </tr>\n",
       "  </tbody>\n",
       "</table>\n",
       "</div>"
      ],
      "text/plain": [
       "        Unnamed: 0  Seat Comfort  Cabin Staff Service  Food & Beverages  \\\n",
       "count  23171.00000  19016.000000         18911.000000      14500.000000   \n",
       "mean   11585.00000      2.618374             2.871609          2.553586   \n",
       "std     6689.03588      1.464840             1.604631          1.526314   \n",
       "min        0.00000      0.000000             0.000000          0.000000   \n",
       "25%     5792.50000      1.000000             1.000000          1.000000   \n",
       "50%    11585.00000      3.000000             3.000000          2.000000   \n",
       "75%    17377.50000      4.000000             4.000000          4.000000   \n",
       "max    23170.00000      5.000000             5.000000          5.000000   \n",
       "\n",
       "       Ground Service  Inflight Entertainment  Wifi & Connectivity  \\\n",
       "count    18378.000000            10829.000000          5920.000000   \n",
       "mean         2.353738                2.179056             1.780405   \n",
       "std          1.595747                1.488839             1.318800   \n",
       "min          1.000000                0.000000             0.000000   \n",
       "25%          1.000000                1.000000             1.000000   \n",
       "50%          1.000000                2.000000             1.000000   \n",
       "75%          4.000000                3.000000             2.000000   \n",
       "max          5.000000                5.000000             5.000000   \n",
       "\n",
       "       Value For Money  \n",
       "count     22105.000000  \n",
       "mean          2.451165  \n",
       "std           1.594155  \n",
       "min           0.000000  \n",
       "25%           1.000000  \n",
       "50%           2.000000  \n",
       "75%           4.000000  \n",
       "max           5.000000  "
      ]
     },
     "execution_count": 13,
     "metadata": {},
     "output_type": "execute_result"
    }
   ],
   "source": [
    "# numerical columns and there statistical summery of their values\n",
    "df.describe()"
   ]
  },
  {
   "cell_type": "code",
   "execution_count": 9,
   "metadata": {},
   "outputs": [
    {
     "data": {
      "text/plain": [
       "Unnamed: 0                    0\n",
       "Airline Name                  0\n",
       "Overall_Rating                0\n",
       "Review_Title                  0\n",
       "Review Date                   0\n",
       "Verified                      0\n",
       "Review                        0\n",
       "Aircraft                  16042\n",
       "Type Of Traveller          3738\n",
       "Seat Type                  1096\n",
       "Route                      3828\n",
       "Date Flown                 3754\n",
       "Seat Comfort               4155\n",
       "Cabin Staff Service        4260\n",
       "Food & Beverages           8671\n",
       "Ground Service             4793\n",
       "Inflight Entertainment    12342\n",
       "Wifi & Connectivity       17251\n",
       "Value For Money            1066\n",
       "Recommended                   0\n",
       "dtype: int64"
      ]
     },
     "execution_count": 9,
     "metadata": {},
     "output_type": "execute_result"
    }
   ],
   "source": [
    "# get a look at null values\n",
    "df.isnull().sum()"
   ]
  },
  {
   "cell_type": "code",
   "execution_count": 91,
   "metadata": {},
   "outputs": [
    {
     "data": {
      "text/plain": [
       "0"
      ]
     },
     "execution_count": 91,
     "metadata": {},
     "output_type": "execute_result"
    }
   ],
   "source": [
    "# To find out duplicate records\n",
    "df.duplicated().sum()"
   ]
  },
  {
   "cell_type": "code",
   "execution_count": 94,
   "metadata": {},
   "outputs": [
    {
     "data": {
      "text/plain": [
       "False    23171\n",
       "dtype: int64"
      ]
     },
     "execution_count": 94,
     "metadata": {},
     "output_type": "execute_result"
    }
   ],
   "source": [
    "# To find out duplicated rows counts\n",
    "df.duplicated().value_counts()"
   ]
  },
  {
   "cell_type": "code",
   "execution_count": 93,
   "metadata": {},
   "outputs": [
    {
     "data": {
      "text/html": [
       "<div>\n",
       "<style scoped>\n",
       "    .dataframe tbody tr th:only-of-type {\n",
       "        vertical-align: middle;\n",
       "    }\n",
       "\n",
       "    .dataframe tbody tr th {\n",
       "        vertical-align: top;\n",
       "    }\n",
       "\n",
       "    .dataframe thead th {\n",
       "        text-align: right;\n",
       "    }\n",
       "</style>\n",
       "<table border=\"1\" class=\"dataframe\">\n",
       "  <thead>\n",
       "    <tr style=\"text-align: right;\">\n",
       "      <th></th>\n",
       "      <th>Unnamed: 0</th>\n",
       "      <th>Verified</th>\n",
       "      <th>Seat Comfort</th>\n",
       "      <th>Cabin Staff Service</th>\n",
       "      <th>Food &amp; Beverages</th>\n",
       "      <th>Ground Service</th>\n",
       "      <th>Inflight Entertainment</th>\n",
       "      <th>Wifi &amp; Connectivity</th>\n",
       "      <th>Value For Money</th>\n",
       "    </tr>\n",
       "  </thead>\n",
       "  <tbody>\n",
       "    <tr>\n",
       "      <th>Unnamed: 0</th>\n",
       "      <td>1.000000</td>\n",
       "      <td>0.000302</td>\n",
       "      <td>-0.028074</td>\n",
       "      <td>-0.012987</td>\n",
       "      <td>-0.021551</td>\n",
       "      <td>-0.009136</td>\n",
       "      <td>-0.045173</td>\n",
       "      <td>-0.013525</td>\n",
       "      <td>0.001532</td>\n",
       "    </tr>\n",
       "    <tr>\n",
       "      <th>Verified</th>\n",
       "      <td>0.000302</td>\n",
       "      <td>1.000000</td>\n",
       "      <td>-0.010705</td>\n",
       "      <td>-0.009041</td>\n",
       "      <td>0.012481</td>\n",
       "      <td>-0.010860</td>\n",
       "      <td>0.128767</td>\n",
       "      <td>0.032176</td>\n",
       "      <td>-0.078149</td>\n",
       "    </tr>\n",
       "    <tr>\n",
       "      <th>Seat Comfort</th>\n",
       "      <td>-0.028074</td>\n",
       "      <td>-0.010705</td>\n",
       "      <td>1.000000</td>\n",
       "      <td>0.755523</td>\n",
       "      <td>0.722211</td>\n",
       "      <td>0.714854</td>\n",
       "      <td>0.618230</td>\n",
       "      <td>0.662232</td>\n",
       "      <td>0.759475</td>\n",
       "    </tr>\n",
       "    <tr>\n",
       "      <th>Cabin Staff Service</th>\n",
       "      <td>-0.012987</td>\n",
       "      <td>-0.009041</td>\n",
       "      <td>0.755523</td>\n",
       "      <td>1.000000</td>\n",
       "      <td>0.769532</td>\n",
       "      <td>0.714276</td>\n",
       "      <td>0.591799</td>\n",
       "      <td>0.626893</td>\n",
       "      <td>0.751843</td>\n",
       "    </tr>\n",
       "    <tr>\n",
       "      <th>Food &amp; Beverages</th>\n",
       "      <td>-0.021551</td>\n",
       "      <td>0.012481</td>\n",
       "      <td>0.722211</td>\n",
       "      <td>0.769532</td>\n",
       "      <td>1.000000</td>\n",
       "      <td>0.690667</td>\n",
       "      <td>0.671147</td>\n",
       "      <td>0.691146</td>\n",
       "      <td>0.752053</td>\n",
       "    </tr>\n",
       "    <tr>\n",
       "      <th>Ground Service</th>\n",
       "      <td>-0.009136</td>\n",
       "      <td>-0.010860</td>\n",
       "      <td>0.714854</td>\n",
       "      <td>0.714276</td>\n",
       "      <td>0.690667</td>\n",
       "      <td>1.000000</td>\n",
       "      <td>0.615878</td>\n",
       "      <td>0.640562</td>\n",
       "      <td>0.813856</td>\n",
       "    </tr>\n",
       "    <tr>\n",
       "      <th>Inflight Entertainment</th>\n",
       "      <td>-0.045173</td>\n",
       "      <td>0.128767</td>\n",
       "      <td>0.618230</td>\n",
       "      <td>0.591799</td>\n",
       "      <td>0.671147</td>\n",
       "      <td>0.615878</td>\n",
       "      <td>1.000000</td>\n",
       "      <td>0.778482</td>\n",
       "      <td>0.592668</td>\n",
       "    </tr>\n",
       "    <tr>\n",
       "      <th>Wifi &amp; Connectivity</th>\n",
       "      <td>-0.013525</td>\n",
       "      <td>0.032176</td>\n",
       "      <td>0.662232</td>\n",
       "      <td>0.626893</td>\n",
       "      <td>0.691146</td>\n",
       "      <td>0.640562</td>\n",
       "      <td>0.778482</td>\n",
       "      <td>1.000000</td>\n",
       "      <td>0.669146</td>\n",
       "    </tr>\n",
       "    <tr>\n",
       "      <th>Value For Money</th>\n",
       "      <td>0.001532</td>\n",
       "      <td>-0.078149</td>\n",
       "      <td>0.759475</td>\n",
       "      <td>0.751843</td>\n",
       "      <td>0.752053</td>\n",
       "      <td>0.813856</td>\n",
       "      <td>0.592668</td>\n",
       "      <td>0.669146</td>\n",
       "      <td>1.000000</td>\n",
       "    </tr>\n",
       "  </tbody>\n",
       "</table>\n",
       "</div>"
      ],
      "text/plain": [
       "                        Unnamed: 0  Verified  Seat Comfort  \\\n",
       "Unnamed: 0                1.000000  0.000302     -0.028074   \n",
       "Verified                  0.000302  1.000000     -0.010705   \n",
       "Seat Comfort             -0.028074 -0.010705      1.000000   \n",
       "Cabin Staff Service      -0.012987 -0.009041      0.755523   \n",
       "Food & Beverages         -0.021551  0.012481      0.722211   \n",
       "Ground Service           -0.009136 -0.010860      0.714854   \n",
       "Inflight Entertainment   -0.045173  0.128767      0.618230   \n",
       "Wifi & Connectivity      -0.013525  0.032176      0.662232   \n",
       "Value For Money           0.001532 -0.078149      0.759475   \n",
       "\n",
       "                        Cabin Staff Service  Food & Beverages  Ground Service  \\\n",
       "Unnamed: 0                        -0.012987         -0.021551       -0.009136   \n",
       "Verified                          -0.009041          0.012481       -0.010860   \n",
       "Seat Comfort                       0.755523          0.722211        0.714854   \n",
       "Cabin Staff Service                1.000000          0.769532        0.714276   \n",
       "Food & Beverages                   0.769532          1.000000        0.690667   \n",
       "Ground Service                     0.714276          0.690667        1.000000   \n",
       "Inflight Entertainment             0.591799          0.671147        0.615878   \n",
       "Wifi & Connectivity                0.626893          0.691146        0.640562   \n",
       "Value For Money                    0.751843          0.752053        0.813856   \n",
       "\n",
       "                        Inflight Entertainment  Wifi & Connectivity  \\\n",
       "Unnamed: 0                           -0.045173            -0.013525   \n",
       "Verified                              0.128767             0.032176   \n",
       "Seat Comfort                          0.618230             0.662232   \n",
       "Cabin Staff Service                   0.591799             0.626893   \n",
       "Food & Beverages                      0.671147             0.691146   \n",
       "Ground Service                        0.615878             0.640562   \n",
       "Inflight Entertainment                1.000000             0.778482   \n",
       "Wifi & Connectivity                   0.778482             1.000000   \n",
       "Value For Money                       0.592668             0.669146   \n",
       "\n",
       "                        Value For Money  \n",
       "Unnamed: 0                     0.001532  \n",
       "Verified                      -0.078149  \n",
       "Seat Comfort                   0.759475  \n",
       "Cabin Staff Service            0.751843  \n",
       "Food & Beverages               0.752053  \n",
       "Ground Service                 0.813856  \n",
       "Inflight Entertainment         0.592668  \n",
       "Wifi & Connectivity            0.669146  \n",
       "Value For Money                1.000000  "
      ]
     },
     "execution_count": 93,
     "metadata": {},
     "output_type": "execute_result"
    }
   ],
   "source": [
    "# finding correlations among columns\n",
    "df.corr()"
   ]
  },
  {
   "cell_type": "code",
   "execution_count": 18,
   "metadata": {},
   "outputs": [
    {
     "data": {
      "text/plain": [
       "Caribbean Airlines           100\n",
       "GoAir                        100\n",
       "Germanwings                  100\n",
       "Philippine Airlines          100\n",
       "Bangkok Airways              100\n",
       "                            ... \n",
       "JC International Airlines      1\n",
       "MEGA Maldives Airlines         1\n",
       "MAYAir                         1\n",
       "Tibet Airlines                 1\n",
       "Dimonim Air                    1\n",
       "Name: Airline Name, Length: 497, dtype: int64"
      ]
     },
     "execution_count": 18,
     "metadata": {},
     "output_type": "execute_result"
    }
   ],
   "source": [
    "# count of airline name values\n",
    "df['Airline Name'].value_counts()"
   ]
  },
  {
   "cell_type": "code",
   "execution_count": 38,
   "metadata": {},
   "outputs": [
    {
     "data": {
      "text/plain": [
       "array(['AB Aviation', 'Adria Airways', 'Aegean Airlines', 'Aer Lingus',\n",
       "       'Aero VIP', 'Aerocaribbean', 'Aeroflot Russian Airlines',\n",
       "       'AeroItalia', 'Aerolineas Argentinas', 'Aeromar', 'Aeromexico',\n",
       "       'Aerosur', 'Africa World Airlines', 'Afriqiyah Airways',\n",
       "       'Aigle Azur', 'Air Algerie', 'Air Antilles', 'Air Arabia',\n",
       "       'Air Astana', 'Air Austral', 'Air Bagan', 'Air Berlin',\n",
       "       'Air Botswana', 'Air Burkina', 'Air Busan', 'Air Cairo',\n",
       "       'Air Canada', 'Air Canada rouge', 'Air Caraibes', 'Air China',\n",
       "       'Air Corsica', 'Air Costa', \"Air Cote d'Ivoire\", 'Air Djibouti',\n",
       "       'Air Dolomiti', 'Air Europa', 'Air France', 'Air Greenland',\n",
       "       'Air Iceland Connect', 'Air India', 'Air India Express',\n",
       "       'Air Italy', 'Air Juan', 'Air KBZ', 'Air Koryo', 'Air Labrador',\n",
       "       'Air Macau', 'Air Madagascar', 'Air Malawi', 'Air Malta',\n",
       "       'Air Mauritius', 'Air Mediterranee', 'Air Memphis', 'Air Moldova',\n",
       "       'Air Namibia', 'Air New Zealand', 'Air Niugini',\n",
       "       \"Air North Yukon's Airline\", 'Air Nostrum', 'Air Panama',\n",
       "       'Air Pegasus', 'Air Rarotonga', 'Air Serbia', 'Air Seychelles',\n",
       "       'Air Tahiti Nui', 'Air Tanzania', 'Air Transat', 'Air Zimbabwe',\n",
       "       'AirAsia', 'AirAsia India', 'AirAsia Philippines', 'AirAsia X',\n",
       "       'AirAsia Zest', 'airBaltic', 'Aircalin', 'Airlink', 'Airnorth',\n",
       "       'AirSWIFT', 'Akasa Air', 'Alaska Airlines', 'Alitalia',\n",
       "       'Allegiant Air', 'Alliance Air', 'Alliance Airlines', 'Amaszonas',\n",
       "       'American Airlines', 'American Eagle', 'ANA All Nippon Airways',\n",
       "       'AnadoluJet', 'Andes Líneas Aéreas', 'Ariana Afghan Airlines',\n",
       "       'Arik Air', 'Arkefly', 'Armenia Air Company', 'Asiana Airlines',\n",
       "       'ASKY Airlines', 'ATA Airlines', 'Atlantic Airways', 'Auric Air',\n",
       "       'Aurigny Air', 'Austrian Airlines', 'Avelo Airlines', 'Avianca',\n",
       "       'Avior Airlines', 'Azerbaijan Airlines', 'Azur Air Germany',\n",
       "       'BA CityFlyer', 'Badr Airlines', 'Bahamasair', 'Bamboo Airways',\n",
       "       'Bangkok Airways', 'Bassaka Air', 'Batik Air',\n",
       "       'Beijing Capital Airlines', 'Belavia', 'Berjaya Air',\n",
       "       'Bhutan Airlines', 'Binter Canarias', 'Blue Air', 'Blue Islands',\n",
       "       'Blue Panorama Airlines', 'Blue1', 'Bluebird Airways',\n",
       "       'bmi Regional', 'BoraJet', 'Boutique Air', 'Breeze Airways',\n",
       "       'British Airways', 'Brussels Airlines', 'Buddha Air',\n",
       "       'Bulgaria Air', 'Buta Airways', 'Camair-Co', 'Cambodia Airways',\n",
       "       'Cambodia Bayon Airlines', 'Canadian North', 'Canaryfly',\n",
       "       'Cape Air', 'Caribbean Airlines', 'Carpatair', 'Cathay Dragon',\n",
       "       'Cathay Pacific Airways', 'Cayman Airways', 'Cebu Pacific',\n",
       "       'CemAir', 'Central Mountain Air', 'China Airlines',\n",
       "       'China Eastern Airlines', 'China Southern Airlines',\n",
       "       'China United Airlines', 'Citilink', 'CityJet', 'Coastal Aviation',\n",
       "       'Cobalt', 'Comair', 'Condor Airlines', 'Conviasa', 'Copa Airlines',\n",
       "       'Corendon Airlines', 'Corsair', 'Croatia Airlines',\n",
       "       'CSA Czech Airlines', 'Cubana Airlines', 'Cyprus Airways',\n",
       "       'Delta Air Lines', 'Dimonim Air', 'Dniproavia', 'Dragonair',\n",
       "       'Druk Air', 'Dynamic International Airways', 'Eastern Airlines',\n",
       "       'Eastern Airways', 'Easyfly', 'easyJet', 'Edelweiss Air',\n",
       "       'Egyptair', 'El Al Israel Airlines', 'Ellinair', 'Emirates',\n",
       "       'Eritrean Airlines', 'Ernest Airlines', 'Estonian Air',\n",
       "       'Eswatini Air', 'Ethiopian Airlines', 'Etihad Airways',\n",
       "       'euroAtlantic Airways', 'Europe Airpost', 'Eurowings', 'EVA Air',\n",
       "       'Evelop Airlines', 'EWA Air', 'Ravn Alaska', 'fastjet',\n",
       "       'Felix Airways', 'Fiji Airways', 'Finnair', 'Firefly',\n",
       "       'Flair Airlines', 'Fly540.com', 'flyadeal', 'FlyArystan', 'flybe',\n",
       "       'flydubai', 'Flynas', 'FLYONE', 'FlySafair', 'FMI Air',\n",
       "       'French Bee', 'Frontier Airlines', 'Garuda Indonesia',\n",
       "       'Georgian Airways', 'Germania Airline', 'Germanwings', 'Go First',\n",
       "       'GoAir', 'Golden Myanmar Airlines', 'Grand Cru Airlines',\n",
       "       'Greater Bay Airlines', 'Gulf Air', 'Hainan Airlines',\n",
       "       'Hawaiian Airlines', 'Henan Airlines', 'Hi Fly',\n",
       "       'Himalaya Airlines', 'HiSky', 'Hong Kong Airlines', 'HOP!',\n",
       "       'Horizon Air', 'Hunnu Air', 'Iberia', 'Iberia Express', 'Iberojet',\n",
       "       'Icelandair', 'Insel Air', 'Intercaribbean Airways', 'Interjet',\n",
       "       'InterSky', 'Iran Air', 'Iraqi Airways', 'Israir Airlines',\n",
       "       'ITA Airways', 'Japan Airlines', 'Jazeera Airways', 'Jazz',\n",
       "       'JC International Airlines', 'Jeju Air', 'Jet Airways', 'Jet2.com',\n",
       "       'Jetairfly', 'Jetblue Airways', 'JetSmart', 'Jetstar Airways',\n",
       "       'Jetstar Asia', 'Jetstar Japan', 'Jetstar Pacific', 'JetsuiteX',\n",
       "       'Jin Air', 'Joon', 'Jordan Aviation', 'Kam Air', 'Kan Air',\n",
       "       'Karthago Airlines', 'KD Air', 'Kenya Airways',\n",
       "       'KLM Royal Dutch Airlines', 'Korean Air', 'Kulula',\n",
       "       'Kuwait Airways', 'La Compagnie', 'LAN Airlines', 'LAN Colombia',\n",
       "       'LAN Peru', 'Lao Airlines', 'LATAM Airlines', 'Laudamotion',\n",
       "       'LC Perú', 'Level', 'LIAT', 'Libyan Airlines', 'Lion Air',\n",
       "       'Loch Lomond Seaplanes', 'Loganair', 'LOT Polish Airlines',\n",
       "       'Lubeck Air', 'Lucky Air', 'Lufthansa', 'Luxair', 'Lynx Air',\n",
       "       'Mack Air', 'Madagasikara Airways', 'Mahan Air',\n",
       "       'Malawian Airlines', 'Malaysia Airlines', 'Maldivian',\n",
       "       'Malindo Air', 'Mandarin Airlines', 'Mann Yadanarpon Airlines',\n",
       "       'Manta Air', 'Martinair', 'Mauritania Airlines', 'Maya Island Air',\n",
       "       'MAYAir', 'MEGA Maldives Airlines', 'Meridiana', 'Mihin Lanka',\n",
       "       'Mokulele Airlines', 'Moldavian Airlines', 'Monarch Airlines',\n",
       "       'Montenegro Airlines', 'Motor Sich Airlines', 'Myanmar Airways',\n",
       "       'Myanmar National Airlines', 'NAM Air', 'Nature Air',\n",
       "       'Nauru Airlines', 'Nepal Airlines', 'NextJet', 'NIKI', 'Nile Air',\n",
       "       'Nok Air', 'NokScoot', 'Nordavia', 'Nordic Regional Airlines',\n",
       "       'Nordica', 'NordStar', 'Nordwind Airlines',\n",
       "       'Norse Atlantic Airways', 'Norwegian', 'Nouvelair', 'Novair',\n",
       "       'Novoair', 'Okay Airways', 'Olympic Air', 'Oman Air',\n",
       "       'Omni Air International', 'Onur Air', 'Openskies',\n",
       "       'Pacific Airlines', 'PAL Express', 'Pan Pacific Airlines',\n",
       "       'Passion Air', 'PAWA Dominicana', 'Peach Aviation',\n",
       "       'Pegasus Airlines', 'PenAir', 'Peruvian Airlines',\n",
       "       'Petroleum Air Services', 'Philippine Airlines', 'Phuket Air',\n",
       "       'PLAY', 'Pobeda Airlines', 'Porter Airlines', 'Primera Air',\n",
       "       'Privilege Style', 'Qantas Airways', 'QantasLink', 'Qatar Airways',\n",
       "       'Qazaq Air', 'Red Wings Airlines', 'Regent Airways',\n",
       "       'Regional Express', 'Rex Airlines', 'Rhein-Neckar Air',\n",
       "       'Rossiya Airlines', 'Royal Air Maroc', 'Royal Brunei Airlines',\n",
       "       'Royal Jordanian Airlines', 'Rwandair', 'Ryanair',\n",
       "       'S7 Siberia Airlines', 'SA Express', 'Safarilink', 'Safi Airways',\n",
       "       'Salam Air', 'Sansa Airlines', 'SATA Air Azores', 'SATENA',\n",
       "       'Saudi Arabian Airlines', 'SCAT Airlines', 'Scoot',\n",
       "       'Seaborne Airlines', 'SereneAir', 'Shaheen Air',\n",
       "       'Shandong Airlines', 'Shanghai Airlines', 'Shenzhen Airlines',\n",
       "       'Sichuan Airlines', 'SilkAir', 'Silver Airways',\n",
       "       'Singapore Airlines', 'Sky Airline', 'Sky Express Airlines',\n",
       "       'Skybus', 'Skymark Airlines', 'Skytrans Airlines',\n",
       "       'SkyUp Airlines', 'SkyWest Airlines', 'SkyWork Airlines',\n",
       "       'Smartavia', 'SmartLynx Airlines', 'SmartWings',\n",
       "       'Sol Líneas Aéreas', 'Solomon Airlines', 'Somon Air',\n",
       "       'South African Airways', 'Southwest Airlines', 'SpiceJet',\n",
       "       'Spirit Airlines', 'SriLankan Airlines', 'Sriwijaya Air',\n",
       "       'StarFlyer', 'Sudan Airways', 'Sun Country Airlines', 'Sun-Air',\n",
       "       'Sunwing Airlines', 'Suparna Airlines', 'Super Air Jet',\n",
       "       'Surinam Airways', 'SVG Air', 'Swoop', 'SyrianAir', \"T'Way Air\",\n",
       "       'TAAG Angola Airlines', 'TACA Regional', 'TAG Airlines',\n",
       "       'Tailwind Airlines', 'TAM Airlines', 'TAME',\n",
       "       'Tame Línea Aérea Del Ecuador', 'TAP Portugal', 'TAR Aerolineas',\n",
       "       'Thai AirAsia', 'Thai Airways', 'Thai Lion Air',\n",
       "       'Thai Smile Airways', 'Thomas Cook Airlines',\n",
       "       'Thomas Cook Airlines Scandinavia', 'Thomson Airways',\n",
       "       'Tianjin Airlines', 'Tibet Airlines', 'Tigerair',\n",
       "       'Tigerair Australia', 'Tigerair Taiwan', 'Titan Airways',\n",
       "       'Transaero Airlines', 'TransAsia Airways', 'Transavia',\n",
       "       'TransNusa', 'Trigana Air', 'Tropic Air Belize', 'TUI Airways',\n",
       "       'TUIfly', 'TUIfly Nordic', 'Tunisair', 'Turkish Airlines',\n",
       "       'Turkmenistan Airlines', 'TUS Airways', 'Uganda Airlines',\n",
       "       'Ultra Air', 'United Airlines', 'UP by El Al', 'Ural Airlines',\n",
       "       'US Airways', 'US-Bangla Airlines', 'Utair Aviation',\n",
       "       'Uzbekistan Airways', 'V Air', 'Vanilla Air', 'ViaAir',\n",
       "       'Vietnam Airlines', 'Virgin America', 'Virgin Australia',\n",
       "       'Vistara', 'Viva Air', 'VivaAerobús', 'VivaColombia',\n",
       "       'VLM Airlines', 'Volaris', 'Volotea', 'Voyage Air',\n",
       "       'Vueling Airlines', 'Wamos Air', 'Wideroe', 'Winair', 'Wingo',\n",
       "       'Wings Air', 'Wizz Air', 'World2Fly', 'WOW air', 'Xiamen Airlines',\n",
       "       'XL Airways France', 'Yakutia Airlines', 'Yangon Airways',\n",
       "       'Yemenia', 'Yeti Airlines', 'Zambia Airways', 'ZIPAIR'],\n",
       "      dtype=object)"
      ]
     },
     "execution_count": 38,
     "metadata": {},
     "output_type": "execute_result"
    }
   ],
   "source": [
    "# List of all unique airline names\n",
    "df[\"Airline Name\"].unique()"
   ]
  },
  {
   "cell_type": "code",
   "execution_count": 39,
   "metadata": {},
   "outputs": [
    {
     "data": {
      "text/plain": [
       "497"
      ]
     },
     "execution_count": 39,
     "metadata": {},
     "output_type": "execute_result"
    }
   ],
   "source": [
    "# count of unique airline names\n",
    "df[\"Airline Name\"].nunique()"
   ]
  },
  {
   "cell_type": "code",
   "execution_count": 127,
   "metadata": {},
   "outputs": [
    {
     "data": {
      "text/plain": [
       "no     15364\n",
       "yes     7807\n",
       "Name: Recommended, dtype: int64"
      ]
     },
     "execution_count": 127,
     "metadata": {},
     "output_type": "execute_result"
    }
   ],
   "source": [
    "# count of distinct recommended values\n",
    "df[\"Recommended\"].value_counts()"
   ]
  },
  {
   "cell_type": "code",
   "execution_count": 128,
   "metadata": {},
   "outputs": [
    {
     "data": {
      "text/plain": [
       "Airline Name\n",
       "AB Aviation                 3\n",
       "ANA All Nippon Airways    100\n",
       "ASKY Airlines              23\n",
       "ATA Airlines                2\n",
       "Adria Airways              91\n",
       "                         ... \n",
       "euroAtlantic Airways       16\n",
       "fastjet                    33\n",
       "flyadeal                   19\n",
       "flybe                       4\n",
       "flydubai                  100\n",
       "Name: Recommended, Length: 497, dtype: int64"
      ]
     },
     "execution_count": 128,
     "metadata": {},
     "output_type": "execute_result"
    }
   ],
   "source": [
    "# based on Airline Name finding count of recommended\n",
    "df.groupby(\"Airline Name\")[\"Recommended\"].count()"
   ]
  },
  {
   "cell_type": "code",
   "execution_count": 129,
   "metadata": {
    "scrolled": true
   },
   "outputs": [
    {
     "data": {
      "text/plain": [
       "1    11595\n",
       "2     2296\n",
       "9     1768\n",
       "8     1757\n",
       "3     1356\n",
       "7     1193\n",
       "4      859\n",
       "n      842\n",
       "5      830\n",
       "6      675\n",
       "Name: Overall_Rating, dtype: int64"
      ]
     },
     "execution_count": 129,
     "metadata": {},
     "output_type": "execute_result"
    }
   ],
   "source": [
    "# count of distinct overall_rating values\n",
    "df[\"Overall_Rating\"].value_counts()"
   ]
  },
  {
   "cell_type": "code",
   "execution_count": 108,
   "metadata": {},
   "outputs": [],
   "source": [
    "# df[\"Overall_Rating\"]=df[\"Overall_Rating\"].astype(int)"
   ]
  },
  {
   "cell_type": "code",
   "execution_count": 130,
   "metadata": {},
   "outputs": [
    {
     "data": {
      "text/plain": [
       "0"
      ]
     },
     "execution_count": 130,
     "metadata": {},
     "output_type": "execute_result"
    }
   ],
   "source": [
    "# finding overall_rating null values\n",
    "df[\"Overall_Rating\"].isnull().sum()"
   ]
  },
  {
   "cell_type": "code",
   "execution_count": 132,
   "metadata": {},
   "outputs": [
    {
     "data": {
      "text/plain": [
       "Overall_Rating\n",
       "1    11595\n",
       "2     2296\n",
       "3     1356\n",
       "4      859\n",
       "5      830\n",
       "6      675\n",
       "7     1193\n",
       "8     1757\n",
       "9     1768\n",
       "n      842\n",
       "Name: Recommended, dtype: int64"
      ]
     },
     "execution_count": 132,
     "metadata": {},
     "output_type": "execute_result"
    }
   ],
   "source": [
    "# recommendation count for each rating \n",
    "df.groupby(\"Overall_Rating\")[\"Recommended\"].count()"
   ]
  },
  {
   "cell_type": "code",
   "execution_count": 133,
   "metadata": {
    "scrolled": true
   },
   "outputs": [
    {
     "data": {
      "text/plain": [
       "Index(['Unnamed: 0', 'Airline Name', 'Overall_Rating', 'Review_Title',\n",
       "       'Review Date', 'Verified', 'Review', 'Aircraft', 'Type Of Traveller',\n",
       "       'Seat Type', 'Route', 'Date Flown', 'Seat Comfort',\n",
       "       'Cabin Staff Service', 'Food & Beverages', 'Ground Service',\n",
       "       'Inflight Entertainment', 'Wifi & Connectivity', 'Value For Money',\n",
       "       'Recommended'],\n",
       "      dtype='object')"
      ]
     },
     "execution_count": 133,
     "metadata": {},
     "output_type": "execute_result"
    }
   ],
   "source": [
    "df.columns"
   ]
  },
  {
   "cell_type": "code",
   "execution_count": 77,
   "metadata": {},
   "outputs": [
    {
     "data": {
      "text/plain": [
       "June 2023        1057\n",
       "July 2023         814\n",
       "May 2023          788\n",
       "April 2023        699\n",
       "March 2023        589\n",
       "                 ... \n",
       "October 2014        4\n",
       "December 2014       3\n",
       "April 2012          1\n",
       "November 2014       1\n",
       "August 2023         1\n",
       "Name: Date Flown, Length: 109, dtype: int64"
      ]
     },
     "execution_count": 77,
     "metadata": {},
     "output_type": "execute_result"
    }
   ],
   "source": [
    "# count of distinct date flown values\n",
    "df[\"Date Flown\"].value_counts()"
   ]
  },
  {
   "cell_type": "code",
   "execution_count": 56,
   "metadata": {},
   "outputs": [
    {
     "data": {
      "text/plain": [
       "True     12322\n",
       "False    10849\n",
       "Name: Verified, dtype: int64"
      ]
     },
     "execution_count": 56,
     "metadata": {},
     "output_type": "execute_result"
    }
   ],
   "source": [
    "# count of distinct review verified values\n",
    "df[\"Verified\"].value_counts()"
   ]
  },
  {
   "cell_type": "code",
   "execution_count": 58,
   "metadata": {},
   "outputs": [
    {
     "data": {
      "text/plain": [
       "Solo Leisure      7120\n",
       "Couple Leisure    5265\n",
       "Family Leisure    4352\n",
       "Business          2696\n",
       "Name: Type Of Traveller, dtype: int64"
      ]
     },
     "execution_count": 58,
     "metadata": {},
     "output_type": "execute_result"
    }
   ],
   "source": [
    "# distinct type of traveller count\n",
    "df[\"Type Of Traveller\"].value_counts()"
   ]
  },
  {
   "cell_type": "code",
   "execution_count": 62,
   "metadata": {},
   "outputs": [
    {
     "data": {
      "text/plain": [
       "array(['Solo Leisure', 'Couple Leisure', 'Business', 'Family Leisure',\n",
       "       nan], dtype=object)"
      ]
     },
     "execution_count": 62,
     "metadata": {},
     "output_type": "execute_result"
    }
   ],
   "source": [
    "# unique type of traveller names\n",
    "df[\"Type Of Traveller\"].unique()"
   ]
  },
  {
   "cell_type": "markdown",
   "metadata": {
    "azdata_cell_guid": "d45060f3-97bc-484a-9ef4-66145bbe9427"
   },
   "source": [
    "## Visualize\n",
    "\n",
    "Create any visualizations for your EDA here. Make note in the form of code comments of what your thought process is for your visualizations."
   ]
  },
  {
   "cell_type": "code",
   "execution_count": 72,
   "metadata": {},
   "outputs": [
    {
     "data": {
      "text/plain": [
       "<matplotlib.axes._subplots.AxesSubplot at 0x26c1c5ae5c8>"
      ]
     },
     "execution_count": 72,
     "metadata": {},
     "output_type": "execute_result"
    },
    {
     "data": {
      "image/png": "[encoded data removed]",
      "text/plain": [
       "<Figure size 432x288 with 1 Axes>"
      ]
     },
     "metadata": {},
     "output_type": "display_data"
    }
   ],
   "source": [
    "# pie chart showing review verified details\n",
    "df[\"Verified\"].value_counts().plot(kind=\"pie\")"
   ]
  },
  {
   "cell_type": "code",
   "execution_count": 73,
   "metadata": {},
   "outputs": [
    {
     "data": {
      "text/plain": [
       "<matplotlib.axes._subplots.AxesSubplot at 0x26c1c65b588>"
      ]
     },
     "execution_count": 73,
     "metadata": {},
     "output_type": "execute_result"
    },
    {
     "data": {
      "image/png": "[encoded data removed]",
      "text/plain": [
       "<Figure size 432x288 with 1 Axes>"
      ]
     },
     "metadata": {
      "needs_background": "light"
     },
     "output_type": "display_data"
    }
   ],
   "source": [
    "# bar chart representaion of unique type of traveller\n",
    "df[\"Type Of Traveller\"].value_counts().plot(kind = \"bar\")"
   ]
  },
  {
   "cell_type": "code",
   "execution_count": 81,
   "metadata": {},
   "outputs": [
    {
     "data": {
      "text/plain": [
       "<matplotlib.axes._subplots.AxesSubplot at 0x26c1c7b8ec8>"
      ]
     },
     "execution_count": 81,
     "metadata": {},
     "output_type": "execute_result"
    },
    {
     "data": {
      "image/png": "[encoded data removed]",
      "text/plain": [
       "<Figure size 432x288 with 1 Axes>"
      ]
     },
     "metadata": {},
     "output_type": "display_data"
    }
   ],
   "source": [
    "# pie chart showing different classes of seat types \n",
    "df[\"Seat Type\"].value_counts().plot(kind = 'pie')"
   ]
  },
  {
   "cell_type": "code",
   "execution_count": 37,
   "metadata": {
    "azdata_cell_guid": "f4565b03-759a-47a8-b58f-01b32a0b4b67"
   },
   "outputs": [
    {
     "data": {
      "image/png": "[encoded data removed]",
      "text/plain": [
       "<Figure size 432x288 with 1 Axes>"
      ]
     },
     "metadata": {
      "needs_background": "light"
     },
     "output_type": "display_data"
    }
   ],
   "source": [
    "# It showed value for money having 1 has highest count which is 10000,meaning more dissatisfied customers.that means\n",
    "# customers are feeling that they are not getting value worth the money they are spending\n",
    "df.hist('Value For Money')\n",
    "plt.show()"
   ]
  },
  {
   "cell_type": "code",
   "execution_count": 134,
   "metadata": {},
   "outputs": [
    {
     "data": {
      "text/plain": [
       "<matplotlib.axes._subplots.AxesSubplot at 0x26c265bd448>"
      ]
     },
     "execution_count": 134,
     "metadata": {},
     "output_type": "execute_result"
    },
    {
     "data": {
      "image/png": "[encoded data removed]",
      "text/plain": [
       "<Figure size 432x288 with 1 Axes>"
      ]
     },
     "metadata": {
      "needs_background": "light"
     },
     "output_type": "display_data"
    }
   ],
   "source": [
    "# It showed counts of various rating,observed rating 1 has highest counts.\n",
    "df['Overall_Rating'].value_counts().plot(kind='bar')\n"
   ]
  },
  {
   "cell_type": "code",
   "execution_count": 135,
   "metadata": {},
   "outputs": [
    {
     "data": {
      "text/plain": [
       "<matplotlib.axes._subplots.AxesSubplot at 0x26c18b1f808>"
      ]
     },
     "execution_count": 135,
     "metadata": {},
     "output_type": "execute_result"
    },
    {
     "data": {
      "image/png": "[encoded data removed]",
      "text/plain": [
       "<Figure size 432x288 with 1 Axes>"
      ]
     },
     "metadata": {},
     "output_type": "display_data"
    }
   ],
   "source": [
    "# pie chart representaion of different recommended values\n",
    "df['Recommended'].value_counts().plot(kind='pie')"
   ]
  },
  {
   "cell_type": "code",
   "execution_count": 137,
   "metadata": {},
   "outputs": [
    {
     "data": {
      "text/plain": [
       "<matplotlib.axes._subplots.AxesSubplot at 0x26c27027a48>"
      ]
     },
     "execution_count": 137,
     "metadata": {},
     "output_type": "execute_result"
    },
    {
     "data": {
      "image/png": "[encoded data removed]",
      "text/plain": [
       "<Figure size 432x288 with 1 Axes>"
      ]
     },
     "metadata": {
      "needs_background": "light"
     },
     "output_type": "display_data"
    }
   ],
   "source": [
    "# bar chart of recommendation count for each rating \n",
    "df.groupby(\"Overall_Rating\")[\"Recommended\"].count().plot(kind = \"bar\")"
   ]
  },
  {
   "cell_type": "code",
   "execution_count": 138,
   "metadata": {},
   "outputs": [
    {
     "data": {
      "text/plain": [
       "<matplotlib.axes._subplots.AxesSubplot at 0x26c270a8308>"
      ]
     },
     "execution_count": 138,
     "metadata": {},
     "output_type": "execute_result"
    },
    {
     "data": {
      "image/png": "[encoded data removed]",
      "text/plain": [
       "<Figure size 432x288 with 1 Axes>"
      ]
     },
     "metadata": {},
     "output_type": "display_data"
    }
   ],
   "source": [
    "# pie chart of count for each type of traveller\n",
    "df.groupby(\"Type Of Traveller\")[\"Recommended\"].count().plot(kind = \"pie\")"
   ]
  },
  {
   "cell_type": "markdown",
   "metadata": {
    "azdata_cell_guid": "d4931c0c-2c09-4ee1-95d4-73dd08c2f0a6"
   },
   "source": [
    "## Summarize Your Results\n",
    "\n",
    "With your EDA complete, answer the following questions.\n",
    "\n",
    "1. Was there anything surprising about your dataset? \n",
    "over_all rating '1' is widley used rating in this dataset which means customers very dissatisfied with airlines, surprised to see that\n",
    "\n",
    "2. Do you have any concerns about your dataset? \n",
    "This dataset conatins several columns with numerical data types,recommended column is string type.If it is numerical it might be useful for visualizations and for my business issue:\n",
    "\n",
    "In this dataset Overall_ratings column values are number and some are strings having 'n' value. This made it objet type. we cant analyze columns having strings and numbers together \n",
    "\n",
    "3. Is there anything you want to make note of for the next phase of your analysis, which is cleaning data? \n",
    "This EDA process has brought to light a few cleaning tasks, such as removing unwanted features and necessity to handle missing values"
   ]
  }
 ],
 "metadata": {
  "kernelspec": {
   "display_name": "Python 3",
   "language": "python",
   "name": "python3"
  },
  "language_info": {
   "codemirror_mode": {
    "name": "ipython",
    "version": 3
   },
   "file_extension": ".py",
   "mimetype": "text/x-python",
   "name": "python",
   "nbconvert_exporter": "python",
   "pygments_lexer": "ipython3",
   "version": "3.7.4"
  }
 },
 "nbformat": 4,
 "nbformat_minor": 2
}
